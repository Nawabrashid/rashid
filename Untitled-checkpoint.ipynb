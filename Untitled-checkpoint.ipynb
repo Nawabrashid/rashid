{
 "cells": [
  {
   "cell_type": "markdown",
   "id": "226ecc68",
   "metadata": {},
   "source": [
    "# ASSALAMO-ALAIKUM"
   ]
  },
  {
   "cell_type": "markdown",
   "id": "9cf2d655",
   "metadata": {},
   "source": [
    "## This is my first Tutorial-1"
   ]
  },
  {
   "cell_type": "markdown",
   "id": "d6910215",
   "metadata": {},
   "source": [
    "- Datatype"
   ]
  },
  {
   "cell_type": "code",
   "execution_count": 1,
   "id": "f45f72f1",
   "metadata": {},
   "outputs": [
    {
     "data": {
      "text/plain": [
       "str"
      ]
     },
     "execution_count": 1,
     "metadata": {},
     "output_type": "execute_result"
    }
   ],
   "source": [
    "type(\"rashid\")"
   ]
  },
  {
   "cell_type": "code",
   "execution_count": 2,
   "id": "c5b7dd51",
   "metadata": {},
   "outputs": [
    {
     "data": {
      "text/plain": [
       "str"
      ]
     },
     "execution_count": 2,
     "metadata": {},
     "output_type": "execute_result"
    }
   ],
   "source": [
    "type(\"true\")"
   ]
  },
  {
   "cell_type": "code",
   "execution_count": 4,
   "id": "32c185b5",
   "metadata": {},
   "outputs": [
    {
     "name": "stdout",
     "output_type": "stream",
     "text": [
      "true\n"
     ]
    }
   ],
   "source": [
    "print(\"true\")"
   ]
  },
  {
   "cell_type": "code",
   "execution_count": 8,
   "id": "13aa8c6f",
   "metadata": {},
   "outputs": [
    {
     "name": "stdout",
     "output_type": "stream",
     "text": [
      "5+6i\n"
     ]
    }
   ],
   "source": [
    "print(\"5+6i\")"
   ]
  },
  {
   "cell_type": "code",
   "execution_count": 11,
   "id": "01c554ec",
   "metadata": {},
   "outputs": [
    {
     "name": "stdout",
     "output_type": "stream",
     "text": [
      "True\n"
     ]
    }
   ],
   "source": [
    "print(9>8)"
   ]
  },
  {
   "cell_type": "code",
   "execution_count": null,
   "id": "c197d90a",
   "metadata": {},
   "outputs": [],
   "source": []
  },
  {
   "cell_type": "code",
   "execution_count": 3,
   "id": "9a036f81",
   "metadata": {},
   "outputs": [
    {
     "name": "stdout",
     "output_type": "stream",
     "text": [
      "HELLO\n"
     ]
    }
   ],
   "source": [
    "print(\"HELLO\")"
   ]
  },
  {
   "cell_type": "code",
   "execution_count": 21,
   "id": "269ffaa4",
   "metadata": {},
   "outputs": [],
   "source": [
    "a=5\n",
    "b=10"
   ]
  },
  {
   "cell_type": "code",
   "execution_count": 29,
   "id": "cdd6f4e5",
   "metadata": {},
   "outputs": [
    {
     "name": "stdout",
     "output_type": "stream",
     "text": [
      "15\n",
      "50\n",
      "-5\n",
      "0.5\n",
      "5\n",
      "65\n"
     ]
    }
   ],
   "source": [
    "print(a+b)\n",
    "print(a*b)\n",
    "print(a-b)\n",
    "print(a/b)\n",
    "print(a%b)\n",
    "print((a+b)+(a*b))\n"
   ]
  },
  {
   "cell_type": "code",
   "execution_count": 30,
   "id": "124ed789",
   "metadata": {},
   "outputs": [
    {
     "name": "stdout",
     "output_type": "stream",
     "text": [
      "hello\n"
     ]
    }
   ],
   "source": [
    "print('hello')"
   ]
  },
  {
   "cell_type": "code",
   "execution_count": 1,
   "id": "7ac6b31c",
   "metadata": {},
   "outputs": [
    {
     "data": {
      "text/plain": [
       "str"
      ]
     },
     "execution_count": 1,
     "metadata": {},
     "output_type": "execute_result"
    }
   ],
   "source": [
    "type(\"first name\")"
   ]
  },
  {
   "cell_type": "code",
   "execution_count": null,
   "id": "59096ea3",
   "metadata": {},
   "outputs": [],
   "source": []
  },
  {
   "cell_type": "code",
   "execution_count": 2,
   "id": "fa51fdaf",
   "metadata": {},
   "outputs": [
    {
     "data": {
      "text/plain": [
       "int"
      ]
     },
     "execution_count": 2,
     "metadata": {},
     "output_type": "execute_result"
    }
   ],
   "source": [
    "type(5)"
   ]
  },
  {
   "cell_type": "code",
   "execution_count": 3,
   "id": "7cd11c43",
   "metadata": {},
   "outputs": [
    {
     "data": {
      "text/plain": [
       "float"
      ]
     },
     "execution_count": 3,
     "metadata": {},
     "output_type": "execute_result"
    }
   ],
   "source": [
    "type(5.2)"
   ]
  },
  {
   "cell_type": "code",
   "execution_count": 6,
   "id": "685f3996",
   "metadata": {},
   "outputs": [
    {
     "data": {
      "text/plain": [
       "str"
      ]
     },
     "execution_count": 6,
     "metadata": {},
     "output_type": "execute_result"
    }
   ],
   "source": [
    "type(\"true\")"
   ]
  },
  {
   "cell_type": "code",
   "execution_count": 16,
   "id": "df8fc938",
   "metadata": {},
   "outputs": [],
   "source": [
    "first_name='rashid'\n",
    "last_name='Nawab'"
   ]
  },
  {
   "cell_type": "code",
   "execution_count": 22,
   "id": "a1a9b034",
   "metadata": {},
   "outputs": [
    {
     "name": "stdout",
     "output_type": "stream",
     "text": [
      "my first name is Nawab and last name is Rashid\n"
     ]
    }
   ],
   "source": [
    "print(\"my first name is {} and last name is {}\".format( last_name,first_name))"
   ]
  },
  {
   "cell_type": "code",
   "execution_count": 20,
   "id": "75703ae2",
   "metadata": {},
   "outputs": [],
   "source": [
    "first_name='Rashid'\n",
    "last_name='Nawab'"
   ]
  },
  {
   "cell_type": "code",
   "execution_count": 21,
   "id": "81336c49",
   "metadata": {},
   "outputs": [
    {
     "name": "stdout",
     "output_type": "stream",
     "text": [
      "my first name is Rashid and last name is Nawab\n"
     ]
    }
   ],
   "source": [
    "print(\"my first name is {} and last name is {}\".format(first_name,last_name))"
   ]
  },
  {
   "cell_type": "code",
   "execution_count": null,
   "id": "a4609a8a",
   "metadata": {},
   "outputs": [],
   "source": [
    "first_name='rashid'\n",
    "last_name='nawab'"
   ]
  },
  {
   "cell_type": "code",
   "execution_count": 29,
   "id": "44547127",
   "metadata": {},
   "outputs": [
    {
     "name": "stdout",
     "output_type": "stream",
     "text": [
      "my first name is Rashid and last name is Nawab\n"
     ]
    }
   ],
   "source": [
    "print(\"my first name is {first} and last name is {last}\".format(first=first_name,last=last_name)) "
   ]
  },
  {
   "cell_type": "code",
   "execution_count": null,
   "id": "f7906dba",
   "metadata": {},
   "outputs": [],
   "source": [
    "first_name='rashid'\n",
    "last_name='nawab'"
   ]
  },
  {
   "cell_type": "code",
   "execution_count": 32,
   "id": "c52df1ec",
   "metadata": {},
   "outputs": [
    {
     "name": "stdout",
     "output_type": "stream",
     "text": [
      "my first name is Rashid and last name is Nawab\n"
     ]
    }
   ],
   "source": [
    "print(\"my first name is {first} and last name is {last}\".format(last=last_name,first=first_name)) "
   ]
  },
  {
   "cell_type": "code",
   "execution_count": null,
   "id": "2f221c74",
   "metadata": {},
   "outputs": [],
   "source": [
    "a = 200\n",
    "b = 33\n",
    "\n",
    "if b > a:\n",
    "  print(\"b is greater than a\")\n",
    "else:\n",
    "  print(\"b is not greater than a\")\n"
   ]
  },
  {
   "cell_type": "code",
   "execution_count": 13,
   "id": "1a3f5463",
   "metadata": {},
   "outputs": [
    {
     "name": "stdout",
     "output_type": "stream",
     "text": [
      "b is greater than a\n"
     ]
    }
   ],
   "source": [
    "b=20\n",
    "a=5\n",
    "if b>a:\n",
    "    print(\"b is greater than a\")\n",
    "else:\n",
    "    print(\"a is greater than b\")"
   ]
  },
  {
   "cell_type": "code",
   "execution_count": 15,
   "id": "25b25979",
   "metadata": {},
   "outputs": [
    {
     "name": "stdout",
     "output_type": "stream",
     "text": [
      "rashid\n"
     ]
    }
   ],
   "source": [
    "print(\"rashid\") "
   ]
  },
  {
   "cell_type": "code",
   "execution_count": 17,
   "id": "e9747867",
   "metadata": {},
   "outputs": [
    {
     "name": "stdout",
     "output_type": "stream",
     "text": [
      "2onion\n",
      "bringal\n",
      "bana\n"
     ]
    }
   ],
   "source": [
    "x,y,z=\"2onion\",\"bringal\",\"bana\"\n",
    "print(x)\n",
    "print(y)\n",
    "print(z)\n"
   ]
  },
  {
   "cell_type": "code",
   "execution_count": null,
   "id": "881a540c",
   "metadata": {},
   "outputs": [],
   "source": []
  },
  {
   "cell_type": "code",
   "execution_count": null,
   "id": "5c47256a",
   "metadata": {},
   "outputs": [],
   "source": []
  }
 ],
 "metadata": {
  "kernelspec": {
   "display_name": "Python 3 (ipykernel)",
   "language": "python",
   "name": "python3"
  },
  "language_info": {
   "codemirror_mode": {
    "name": "ipython",
    "version": 3
   },
   "file_extension": ".py",
   "mimetype": "text/x-python",
   "name": "python",
   "nbconvert_exporter": "python",
   "pygments_lexer": "ipython3",
   "version": "3.9.13"
  }
 },
 "nbformat": 4,
 "nbformat_minor": 5
}
